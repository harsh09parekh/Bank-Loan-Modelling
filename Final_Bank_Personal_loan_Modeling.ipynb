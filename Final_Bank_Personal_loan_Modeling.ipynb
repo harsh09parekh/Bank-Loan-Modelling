{
 "cells": [
  {
   "cell_type": "markdown",
   "metadata": {
    "id": "4qoJrB3pwm6p"
   },
   "source": [
    "#**Explanation**  \n",
    "This case is about a bank (Thera Bank) which has a growing customer base. Majority of these customers are liability customers (depositors) with varying size of deposits. The number of customers who are also borrowers (asset customers) is quite small, and the bank is interested in expanding this base rapidly to bring in more loan business and in the process, earn more through the interest on loans. In particular, the management wants to explore ways of converting its liability customers to personal loan customers (while retaining them as depositors). A campaign that the bank ran last year for liability customers showed a healthy conversion rate of over 9% success. This has encouraged the retail marketing department to devise campaigns to better target marketing to increase the success ratio with a minimal budget.\n",
    "\n",
    "The department wants to build a model that will help them identify the potential customers who have a higher probability of purchasing the loan. This will increase the success ratio while at the same time reduce the cost of the campaign."
   ]
  },
  {
   "cell_type": "markdown",
   "metadata": {
    "id": "nVziZM0S4aMc"
   },
   "source": [
    "##**Column descriptions**\n",
    "ID Customer ID  \n",
    "Age Customer's age in completed years  \n",
    "Experience #years of professional experience  \n",
    "Income Annual income of the customer (USD 1000)  \n",
    "ZIPCode Home Address ZIP code.  \n",
    "Family Family size of the customer  \n",
    "CCAvg Avg. spending on credit cards per month (USD 1000)  \n",
    "Education Education Level. 1: Undergrad; 2: Graduate; 3: Advanced/Professional  \n",
    "Mortgage Value of house mortgage if any. (USD 1000)  \n",
    "Personal Loan Did this customer accept the personal loan offered in the last campaign?  \n",
    "Securities Account Does the customer have a securities account with the bank?  \n",
    "CD Account Does the customer have a certificate of deposit (CD) account with the bank?  \n",
    "Online Does the customer use internet banking facilities?  \n",
    "CreditCard Does the customer uses a credit card issued by UniversalBank?"
   ]
  },
  {
   "cell_type": "markdown",
   "metadata": {
    "id": "7uQSkV4kunr_"
   },
   "source": [
    "##**Objective**    \n",
    "To take out the insights from the Data, which will help organization to set up an Marketing Strategy in case of Personal Loan."
   ]
  },
  {
   "cell_type": "code",
   "execution_count": 1,
   "metadata": {
    "collapsed": true,
    "id": "h7E9qWcZqQDV"
   },
   "outputs": [],
   "source": [
    "import pandas as pd\n",
    "import numpy as np"
   ]
  },
  {
   "cell_type": "code",
   "execution_count": 2,
   "metadata": {
    "collapsed": false,
    "id": "p-3SOjhqqoyk"
   },
   "outputs": [],
   "source": [
    "df = pd.read_excel(\"Bank_Personal_Loan_Modelling.xlsx\", sheet_name = 'Data')"
   ]
  },
  {
   "cell_type": "code",
   "execution_count": 3,
   "metadata": {
    "colab": {
     "base_uri": "https://localhost:8080/",
     "height": 204
    },
    "collapsed": false,
    "id": "Y_h7dTwIquGN",
    "outputId": "6a6586a3-2f46-4bea-d905-bd3c5b1c1e61"
   },
   "outputs": [
    {
     "data": {
      "text/html": [
       "<div>\n",
       "<style scoped>\n",
       "    .dataframe tbody tr th:only-of-type {\n",
       "        vertical-align: middle;\n",
       "    }\n",
       "\n",
       "    .dataframe tbody tr th {\n",
       "        vertical-align: top;\n",
       "    }\n",
       "\n",
       "    .dataframe thead th {\n",
       "        text-align: right;\n",
       "    }\n",
       "</style>\n",
       "<table border=\"1\" class=\"dataframe\">\n",
       "  <thead>\n",
       "    <tr style=\"text-align: right;\">\n",
       "      <th></th>\n",
       "      <th>ID</th>\n",
       "      <th>Age</th>\n",
       "      <th>Experience</th>\n",
       "      <th>Income</th>\n",
       "      <th>ZIP Code</th>\n",
       "      <th>Family</th>\n",
       "      <th>CCAvg</th>\n",
       "      <th>Education</th>\n",
       "      <th>Mortgage</th>\n",
       "      <th>Personal Loan</th>\n",
       "      <th>Securities Account</th>\n",
       "      <th>CD Account</th>\n",
       "      <th>Online</th>\n",
       "      <th>CreditCard</th>\n",
       "    </tr>\n",
       "  </thead>\n",
       "  <tbody>\n",
       "    <tr>\n",
       "      <th>0</th>\n",
       "      <td>1</td>\n",
       "      <td>25</td>\n",
       "      <td>1</td>\n",
       "      <td>49</td>\n",
       "      <td>91107</td>\n",
       "      <td>4</td>\n",
       "      <td>1.6</td>\n",
       "      <td>1</td>\n",
       "      <td>0</td>\n",
       "      <td>0</td>\n",
       "      <td>1</td>\n",
       "      <td>0</td>\n",
       "      <td>0</td>\n",
       "      <td>0</td>\n",
       "    </tr>\n",
       "    <tr>\n",
       "      <th>1</th>\n",
       "      <td>2</td>\n",
       "      <td>45</td>\n",
       "      <td>19</td>\n",
       "      <td>34</td>\n",
       "      <td>90089</td>\n",
       "      <td>3</td>\n",
       "      <td>1.5</td>\n",
       "      <td>1</td>\n",
       "      <td>0</td>\n",
       "      <td>0</td>\n",
       "      <td>1</td>\n",
       "      <td>0</td>\n",
       "      <td>0</td>\n",
       "      <td>0</td>\n",
       "    </tr>\n",
       "    <tr>\n",
       "      <th>2</th>\n",
       "      <td>3</td>\n",
       "      <td>39</td>\n",
       "      <td>15</td>\n",
       "      <td>11</td>\n",
       "      <td>94720</td>\n",
       "      <td>1</td>\n",
       "      <td>1.0</td>\n",
       "      <td>1</td>\n",
       "      <td>0</td>\n",
       "      <td>0</td>\n",
       "      <td>0</td>\n",
       "      <td>0</td>\n",
       "      <td>0</td>\n",
       "      <td>0</td>\n",
       "    </tr>\n",
       "    <tr>\n",
       "      <th>3</th>\n",
       "      <td>4</td>\n",
       "      <td>35</td>\n",
       "      <td>9</td>\n",
       "      <td>100</td>\n",
       "      <td>94112</td>\n",
       "      <td>1</td>\n",
       "      <td>2.7</td>\n",
       "      <td>2</td>\n",
       "      <td>0</td>\n",
       "      <td>0</td>\n",
       "      <td>0</td>\n",
       "      <td>0</td>\n",
       "      <td>0</td>\n",
       "      <td>0</td>\n",
       "    </tr>\n",
       "    <tr>\n",
       "      <th>4</th>\n",
       "      <td>5</td>\n",
       "      <td>35</td>\n",
       "      <td>8</td>\n",
       "      <td>45</td>\n",
       "      <td>91330</td>\n",
       "      <td>4</td>\n",
       "      <td>1.0</td>\n",
       "      <td>2</td>\n",
       "      <td>0</td>\n",
       "      <td>0</td>\n",
       "      <td>0</td>\n",
       "      <td>0</td>\n",
       "      <td>0</td>\n",
       "      <td>1</td>\n",
       "    </tr>\n",
       "  </tbody>\n",
       "</table>\n",
       "</div>"
      ],
      "text/plain": [
       "   ID  Age  Experience  Income  ZIP Code  Family  CCAvg  Education  Mortgage  \\\n",
       "0   1   25           1      49     91107       4    1.6          1         0   \n",
       "1   2   45          19      34     90089       3    1.5          1         0   \n",
       "2   3   39          15      11     94720       1    1.0          1         0   \n",
       "3   4   35           9     100     94112       1    2.7          2         0   \n",
       "4   5   35           8      45     91330       4    1.0          2         0   \n",
       "\n",
       "   Personal Loan  Securities Account  CD Account  Online  CreditCard  \n",
       "0              0                   1           0       0           0  \n",
       "1              0                   1           0       0           0  \n",
       "2              0                   0           0       0           0  \n",
       "3              0                   0           0       0           0  \n",
       "4              0                   0           0       0           1  "
      ]
     },
     "execution_count": 3,
     "metadata": {},
     "output_type": "execute_result"
    }
   ],
   "source": [
    "df.head()"
   ]
  },
  {
   "cell_type": "markdown",
   "metadata": {
    "id": "_EBgDMnl6tLu"
   },
   "source": [
    "Changing the column names for ease of access"
   ]
  },
  {
   "cell_type": "code",
   "execution_count": 4,
   "metadata": {
    "collapsed": true,
    "id": "wzO5lmfTx-b-"
   },
   "outputs": [],
   "source": [
    "df.rename(columns= {'ZIP Code':'ZIP_Code', 'Personal Loan':'Personal_loan', 'CD Account':'CD_Account'}, inplace=True)"
   ]
  },
  {
   "cell_type": "code",
   "execution_count": 5,
   "metadata": {
    "colab": {
     "base_uri": "https://localhost:8080/",
     "height": 34
    },
    "collapsed": false,
    "id": "sbWsxvvWqvyl",
    "outputId": "4337a29a-9cc7-4ef0-bbb1-7b5c558a9182"
   },
   "outputs": [
    {
     "data": {
      "text/plain": [
       "(5000, 14)"
      ]
     },
     "execution_count": 5,
     "metadata": {},
     "output_type": "execute_result"
    }
   ],
   "source": [
    "df.shape"
   ]
  },
  {
   "cell_type": "code",
   "execution_count": 6,
   "metadata": {
    "colab": {
     "base_uri": "https://localhost:8080/",
     "height": 272
    },
    "collapsed": false,
    "id": "hyPE13hmrFPd",
    "outputId": "9271c2c8-7f1c-4969-c1ee-774a4f71b968"
   },
   "outputs": [
    {
     "data": {
      "text/plain": [
       "ID                    0\n",
       "Age                   0\n",
       "Experience            0\n",
       "Income                0\n",
       "ZIP_Code              0\n",
       "Family                0\n",
       "CCAvg                 0\n",
       "Education             0\n",
       "Mortgage              0\n",
       "Personal_loan         0\n",
       "Securities Account    0\n",
       "CD_Account            0\n",
       "Online                0\n",
       "CreditCard            0\n",
       "dtype: int64"
      ]
     },
     "execution_count": 6,
     "metadata": {},
     "output_type": "execute_result"
    }
   ],
   "source": [
    "df.isnull().sum()"
   ]
  },
  {
   "cell_type": "code",
   "execution_count": 7,
   "metadata": {
    "colab": {
     "base_uri": "https://localhost:8080/",
     "height": 34
    },
    "collapsed": false,
    "id": "FyFVGsAovTfI",
    "outputId": "18821ff7-11b5-478c-977e-f16b91d34b31"
   },
   "outputs": [
    {
     "data": {
      "text/plain": [
       "14"
      ]
     },
     "execution_count": 7,
     "metadata": {},
     "output_type": "execute_result"
    }
   ],
   "source": [
    "len(df.columns)"
   ]
  },
  {
   "cell_type": "code",
   "execution_count": 8,
   "metadata": {
    "colab": {
     "base_uri": "https://localhost:8080/",
     "height": 483
    },
    "collapsed": false,
    "id": "xFzKa-PevaET",
    "outputId": "716195d2-4108-4b57-9ee0-bc042093df59"
   },
   "outputs": [
    {
     "data": {
      "text/html": [
       "<div>\n",
       "<style scoped>\n",
       "    .dataframe tbody tr th:only-of-type {\n",
       "        vertical-align: middle;\n",
       "    }\n",
       "\n",
       "    .dataframe tbody tr th {\n",
       "        vertical-align: top;\n",
       "    }\n",
       "\n",
       "    .dataframe thead th {\n",
       "        text-align: right;\n",
       "    }\n",
       "</style>\n",
       "<table border=\"1\" class=\"dataframe\">\n",
       "  <thead>\n",
       "    <tr style=\"text-align: right;\">\n",
       "      <th></th>\n",
       "      <th>count</th>\n",
       "      <th>mean</th>\n",
       "      <th>std</th>\n",
       "      <th>min</th>\n",
       "      <th>25%</th>\n",
       "      <th>50%</th>\n",
       "      <th>75%</th>\n",
       "      <th>max</th>\n",
       "    </tr>\n",
       "  </thead>\n",
       "  <tbody>\n",
       "    <tr>\n",
       "      <th>ID</th>\n",
       "      <td>5000.0</td>\n",
       "      <td>2500.500000</td>\n",
       "      <td>1443.520003</td>\n",
       "      <td>1.0</td>\n",
       "      <td>1250.75</td>\n",
       "      <td>2500.5</td>\n",
       "      <td>3750.25</td>\n",
       "      <td>5000.0</td>\n",
       "    </tr>\n",
       "    <tr>\n",
       "      <th>Age</th>\n",
       "      <td>5000.0</td>\n",
       "      <td>45.338400</td>\n",
       "      <td>11.463166</td>\n",
       "      <td>23.0</td>\n",
       "      <td>35.00</td>\n",
       "      <td>45.0</td>\n",
       "      <td>55.00</td>\n",
       "      <td>67.0</td>\n",
       "    </tr>\n",
       "    <tr>\n",
       "      <th>Experience</th>\n",
       "      <td>5000.0</td>\n",
       "      <td>20.104600</td>\n",
       "      <td>11.467954</td>\n",
       "      <td>-3.0</td>\n",
       "      <td>10.00</td>\n",
       "      <td>20.0</td>\n",
       "      <td>30.00</td>\n",
       "      <td>43.0</td>\n",
       "    </tr>\n",
       "    <tr>\n",
       "      <th>Income</th>\n",
       "      <td>5000.0</td>\n",
       "      <td>73.774200</td>\n",
       "      <td>46.033729</td>\n",
       "      <td>8.0</td>\n",
       "      <td>39.00</td>\n",
       "      <td>64.0</td>\n",
       "      <td>98.00</td>\n",
       "      <td>224.0</td>\n",
       "    </tr>\n",
       "    <tr>\n",
       "      <th>ZIP_Code</th>\n",
       "      <td>5000.0</td>\n",
       "      <td>93152.503000</td>\n",
       "      <td>2121.852197</td>\n",
       "      <td>9307.0</td>\n",
       "      <td>91911.00</td>\n",
       "      <td>93437.0</td>\n",
       "      <td>94608.00</td>\n",
       "      <td>96651.0</td>\n",
       "    </tr>\n",
       "    <tr>\n",
       "      <th>Family</th>\n",
       "      <td>5000.0</td>\n",
       "      <td>2.396400</td>\n",
       "      <td>1.147663</td>\n",
       "      <td>1.0</td>\n",
       "      <td>1.00</td>\n",
       "      <td>2.0</td>\n",
       "      <td>3.00</td>\n",
       "      <td>4.0</td>\n",
       "    </tr>\n",
       "    <tr>\n",
       "      <th>CCAvg</th>\n",
       "      <td>5000.0</td>\n",
       "      <td>1.937913</td>\n",
       "      <td>1.747666</td>\n",
       "      <td>0.0</td>\n",
       "      <td>0.70</td>\n",
       "      <td>1.5</td>\n",
       "      <td>2.50</td>\n",
       "      <td>10.0</td>\n",
       "    </tr>\n",
       "    <tr>\n",
       "      <th>Education</th>\n",
       "      <td>5000.0</td>\n",
       "      <td>1.881000</td>\n",
       "      <td>0.839869</td>\n",
       "      <td>1.0</td>\n",
       "      <td>1.00</td>\n",
       "      <td>2.0</td>\n",
       "      <td>3.00</td>\n",
       "      <td>3.0</td>\n",
       "    </tr>\n",
       "    <tr>\n",
       "      <th>Mortgage</th>\n",
       "      <td>5000.0</td>\n",
       "      <td>56.498800</td>\n",
       "      <td>101.713802</td>\n",
       "      <td>0.0</td>\n",
       "      <td>0.00</td>\n",
       "      <td>0.0</td>\n",
       "      <td>101.00</td>\n",
       "      <td>635.0</td>\n",
       "    </tr>\n",
       "    <tr>\n",
       "      <th>Personal_loan</th>\n",
       "      <td>5000.0</td>\n",
       "      <td>0.096000</td>\n",
       "      <td>0.294621</td>\n",
       "      <td>0.0</td>\n",
       "      <td>0.00</td>\n",
       "      <td>0.0</td>\n",
       "      <td>0.00</td>\n",
       "      <td>1.0</td>\n",
       "    </tr>\n",
       "    <tr>\n",
       "      <th>Securities Account</th>\n",
       "      <td>5000.0</td>\n",
       "      <td>0.104400</td>\n",
       "      <td>0.305809</td>\n",
       "      <td>0.0</td>\n",
       "      <td>0.00</td>\n",
       "      <td>0.0</td>\n",
       "      <td>0.00</td>\n",
       "      <td>1.0</td>\n",
       "    </tr>\n",
       "    <tr>\n",
       "      <th>CD_Account</th>\n",
       "      <td>5000.0</td>\n",
       "      <td>0.060400</td>\n",
       "      <td>0.238250</td>\n",
       "      <td>0.0</td>\n",
       "      <td>0.00</td>\n",
       "      <td>0.0</td>\n",
       "      <td>0.00</td>\n",
       "      <td>1.0</td>\n",
       "    </tr>\n",
       "    <tr>\n",
       "      <th>Online</th>\n",
       "      <td>5000.0</td>\n",
       "      <td>0.596800</td>\n",
       "      <td>0.490589</td>\n",
       "      <td>0.0</td>\n",
       "      <td>0.00</td>\n",
       "      <td>1.0</td>\n",
       "      <td>1.00</td>\n",
       "      <td>1.0</td>\n",
       "    </tr>\n",
       "    <tr>\n",
       "      <th>CreditCard</th>\n",
       "      <td>5000.0</td>\n",
       "      <td>0.294000</td>\n",
       "      <td>0.455637</td>\n",
       "      <td>0.0</td>\n",
       "      <td>0.00</td>\n",
       "      <td>0.0</td>\n",
       "      <td>1.00</td>\n",
       "      <td>1.0</td>\n",
       "    </tr>\n",
       "  </tbody>\n",
       "</table>\n",
       "</div>"
      ],
      "text/plain": [
       "                     count          mean          std     min       25%  \\\n",
       "ID                  5000.0   2500.500000  1443.520003     1.0   1250.75   \n",
       "Age                 5000.0     45.338400    11.463166    23.0     35.00   \n",
       "Experience          5000.0     20.104600    11.467954    -3.0     10.00   \n",
       "Income              5000.0     73.774200    46.033729     8.0     39.00   \n",
       "ZIP_Code            5000.0  93152.503000  2121.852197  9307.0  91911.00   \n",
       "Family              5000.0      2.396400     1.147663     1.0      1.00   \n",
       "CCAvg               5000.0      1.937913     1.747666     0.0      0.70   \n",
       "Education           5000.0      1.881000     0.839869     1.0      1.00   \n",
       "Mortgage            5000.0     56.498800   101.713802     0.0      0.00   \n",
       "Personal_loan       5000.0      0.096000     0.294621     0.0      0.00   \n",
       "Securities Account  5000.0      0.104400     0.305809     0.0      0.00   \n",
       "CD_Account          5000.0      0.060400     0.238250     0.0      0.00   \n",
       "Online              5000.0      0.596800     0.490589     0.0      0.00   \n",
       "CreditCard          5000.0      0.294000     0.455637     0.0      0.00   \n",
       "\n",
       "                        50%       75%      max  \n",
       "ID                   2500.5   3750.25   5000.0  \n",
       "Age                    45.0     55.00     67.0  \n",
       "Experience             20.0     30.00     43.0  \n",
       "Income                 64.0     98.00    224.0  \n",
       "ZIP_Code            93437.0  94608.00  96651.0  \n",
       "Family                  2.0      3.00      4.0  \n",
       "CCAvg                   1.5      2.50     10.0  \n",
       "Education               2.0      3.00      3.0  \n",
       "Mortgage                0.0    101.00    635.0  \n",
       "Personal_loan           0.0      0.00      1.0  \n",
       "Securities Account      0.0      0.00      1.0  \n",
       "CD_Account              0.0      0.00      1.0  \n",
       "Online                  1.0      1.00      1.0  \n",
       "CreditCard              0.0      1.00      1.0  "
      ]
     },
     "execution_count": 8,
     "metadata": {},
     "output_type": "execute_result"
    }
   ],
   "source": [
    "df.describe().T"
   ]
  },
  {
   "cell_type": "markdown",
   "metadata": {
    "id": "M4qgW116mufs"
   },
   "source": [
    "From the above we have observed certain points Such as:\n",
    "*   Maximun people Age range - 35 to 55 years\n",
    "*   Maximun people Experience range 10 to 30 years.\n",
    "*   Age and Experience are normally distributed as their mean and median are same.\n",
    "*   Unacceptable Experience is -3 years\n",
    "*   credit card spent people 700 to 2500 dollars\n",
    "\n",
    "\n",
    "\n",
    "\n",
    "\n",
    "\n",
    "\n",
    "\n"
   ]
  },
  {
   "cell_type": "code",
   "execution_count": 9,
   "metadata": {
    "colab": {
     "base_uri": "https://localhost:8080/",
     "height": 85
    },
    "collapsed": false,
    "id": "To6muVshrKo8",
    "outputId": "d6536710-eb18-4f87-825b-bef45b8cfd61"
   },
   "outputs": [
    {
     "data": {
      "text/plain": [
       "1    2096\n",
       "3    1501\n",
       "2    1403\n",
       "Name: Education, dtype: int64"
      ]
     },
     "execution_count": 9,
     "metadata": {},
     "output_type": "execute_result"
    }
   ],
   "source": [
    "df['Education'].value_counts()"
   ]
  },
  {
   "cell_type": "code",
   "execution_count": 15,
   "metadata": {
    "collapsed": false
   },
   "outputs": [
    {
     "ename": "ImportError",
     "evalue": "No module named 'numpy.testing.nosetester'",
     "output_type": "error",
     "traceback": [
      "\u001b[0;31m---------------------------------------------------------------------------\u001b[0m",
      "\u001b[0;31mImportError\u001b[0m                               Traceback (most recent call last)",
      "\u001b[0;32m<ipython-input-15-ed9806ce3570>\u001b[0m in \u001b[0;36m<module>\u001b[0;34m()\u001b[0m\n\u001b[0;32m----> 1\u001b[0;31m \u001b[1;32mimport\u001b[0m \u001b[0mseaborn\u001b[0m \u001b[1;32mas\u001b[0m \u001b[0msns\u001b[0m\u001b[1;33m\u001b[0m\u001b[0m\n\u001b[0m",
      "\u001b[0;32mC:\\Users\\hp-pc\\Anaconda3\\lib\\site-packages\\seaborn\\__init__.py\u001b[0m in \u001b[0;36m<module>\u001b[0;34m()\u001b[0m\n\u001b[1;32m      4\u001b[0m \u001b[1;33m\u001b[0m\u001b[0m\n\u001b[1;32m      5\u001b[0m \u001b[1;31m# Import seaborn objects\u001b[0m\u001b[1;33m\u001b[0m\u001b[1;33m\u001b[0m\u001b[0m\n\u001b[0;32m----> 6\u001b[0;31m \u001b[1;32mfrom\u001b[0m \u001b[1;33m.\u001b[0m\u001b[0mrcmod\u001b[0m \u001b[1;32mimport\u001b[0m \u001b[1;33m*\u001b[0m\u001b[1;33m\u001b[0m\u001b[0m\n\u001b[0m\u001b[1;32m      7\u001b[0m \u001b[1;32mfrom\u001b[0m \u001b[1;33m.\u001b[0m\u001b[0mutils\u001b[0m \u001b[1;32mimport\u001b[0m \u001b[1;33m*\u001b[0m\u001b[1;33m\u001b[0m\u001b[0m\n\u001b[1;32m      8\u001b[0m \u001b[1;32mfrom\u001b[0m \u001b[1;33m.\u001b[0m\u001b[0mpalettes\u001b[0m \u001b[1;32mimport\u001b[0m \u001b[1;33m*\u001b[0m\u001b[1;33m\u001b[0m\u001b[0m\n",
      "\u001b[0;32mC:\\Users\\hp-pc\\Anaconda3\\lib\\site-packages\\seaborn\\rcmod.py\u001b[0m in \u001b[0;36m<module>\u001b[0;34m()\u001b[0m\n\u001b[1;32m      4\u001b[0m \u001b[1;32mimport\u001b[0m \u001b[0mmatplotlib\u001b[0m \u001b[1;32mas\u001b[0m \u001b[0mmpl\u001b[0m\u001b[1;33m\u001b[0m\u001b[0m\n\u001b[1;32m      5\u001b[0m \u001b[1;32mimport\u001b[0m \u001b[0mwarnings\u001b[0m\u001b[1;33m\u001b[0m\u001b[0m\n\u001b[0;32m----> 6\u001b[0;31m \u001b[1;32mfrom\u001b[0m \u001b[1;33m.\u001b[0m \u001b[1;32mimport\u001b[0m \u001b[0mpalettes\u001b[0m\u001b[1;33m,\u001b[0m \u001b[0m_orig_rc_params\u001b[0m\u001b[1;33m\u001b[0m\u001b[0m\n\u001b[0m\u001b[1;32m      7\u001b[0m \u001b[1;33m\u001b[0m\u001b[0m\n\u001b[1;32m      8\u001b[0m \u001b[1;33m\u001b[0m\u001b[0m\n",
      "\u001b[0;32mC:\\Users\\hp-pc\\Anaconda3\\lib\\site-packages\\seaborn\\palettes.py\u001b[0m in \u001b[0;36m<module>\u001b[0;34m()\u001b[0m\n\u001b[1;32m     10\u001b[0m \u001b[1;32mfrom\u001b[0m \u001b[1;33m.\u001b[0m\u001b[0mexternal\u001b[0m\u001b[1;33m.\u001b[0m\u001b[0msix\u001b[0m\u001b[1;33m.\u001b[0m\u001b[0mmoves\u001b[0m \u001b[1;32mimport\u001b[0m \u001b[0mrange\u001b[0m\u001b[1;33m\u001b[0m\u001b[0m\n\u001b[1;32m     11\u001b[0m \u001b[1;33m\u001b[0m\u001b[0m\n\u001b[0;32m---> 12\u001b[0;31m \u001b[1;32mfrom\u001b[0m \u001b[1;33m.\u001b[0m\u001b[0mutils\u001b[0m \u001b[1;32mimport\u001b[0m \u001b[0mdesaturate\u001b[0m\u001b[1;33m,\u001b[0m \u001b[0mset_hls_values\u001b[0m\u001b[1;33m,\u001b[0m \u001b[0mget_color_cycle\u001b[0m\u001b[1;33m\u001b[0m\u001b[0m\n\u001b[0m\u001b[1;32m     13\u001b[0m \u001b[1;32mfrom\u001b[0m \u001b[1;33m.\u001b[0m\u001b[0mcolors\u001b[0m \u001b[1;32mimport\u001b[0m \u001b[0mxkcd_rgb\u001b[0m\u001b[1;33m,\u001b[0m \u001b[0mcrayons\u001b[0m\u001b[1;33m\u001b[0m\u001b[0m\n\u001b[1;32m     14\u001b[0m \u001b[1;33m\u001b[0m\u001b[0m\n",
      "\u001b[0;32mC:\\Users\\hp-pc\\Anaconda3\\lib\\site-packages\\seaborn\\utils.py\u001b[0m in \u001b[0;36m<module>\u001b[0;34m()\u001b[0m\n\u001b[1;32m      5\u001b[0m \u001b[1;33m\u001b[0m\u001b[0m\n\u001b[1;32m      6\u001b[0m \u001b[1;32mimport\u001b[0m \u001b[0mnumpy\u001b[0m \u001b[1;32mas\u001b[0m \u001b[0mnp\u001b[0m\u001b[1;33m\u001b[0m\u001b[0m\n\u001b[0;32m----> 7\u001b[0;31m \u001b[1;32mfrom\u001b[0m \u001b[0mscipy\u001b[0m \u001b[1;32mimport\u001b[0m \u001b[0mstats\u001b[0m\u001b[1;33m\u001b[0m\u001b[0m\n\u001b[0m\u001b[1;32m      8\u001b[0m \u001b[1;32mimport\u001b[0m \u001b[0mpandas\u001b[0m \u001b[1;32mas\u001b[0m \u001b[0mpd\u001b[0m\u001b[1;33m\u001b[0m\u001b[0m\n\u001b[1;32m      9\u001b[0m \u001b[1;32mimport\u001b[0m \u001b[0mmatplotlib\u001b[0m \u001b[1;32mas\u001b[0m \u001b[0mmpl\u001b[0m\u001b[1;33m\u001b[0m\u001b[0m\n",
      "\u001b[0;32mC:\\Users\\hp-pc\\Anaconda3\\lib\\site-packages\\scipy\\stats\\__init__.py\u001b[0m in \u001b[0;36m<module>\u001b[0;34m()\u001b[0m\n\u001b[1;32m    342\u001b[0m \u001b[1;32mfrom\u001b[0m \u001b[0m__future__\u001b[0m \u001b[1;32mimport\u001b[0m \u001b[0mdivision\u001b[0m\u001b[1;33m,\u001b[0m \u001b[0mprint_function\u001b[0m\u001b[1;33m,\u001b[0m \u001b[0mabsolute_import\u001b[0m\u001b[1;33m\u001b[0m\u001b[0m\n\u001b[1;32m    343\u001b[0m \u001b[1;33m\u001b[0m\u001b[0m\n\u001b[0;32m--> 344\u001b[0;31m \u001b[1;32mfrom\u001b[0m \u001b[1;33m.\u001b[0m\u001b[0mstats\u001b[0m \u001b[1;32mimport\u001b[0m \u001b[1;33m*\u001b[0m\u001b[1;33m\u001b[0m\u001b[0m\n\u001b[0m\u001b[1;32m    345\u001b[0m \u001b[1;32mfrom\u001b[0m \u001b[1;33m.\u001b[0m\u001b[0mdistributions\u001b[0m \u001b[1;32mimport\u001b[0m \u001b[1;33m*\u001b[0m\u001b[1;33m\u001b[0m\u001b[0m\n\u001b[1;32m    346\u001b[0m \u001b[1;32mfrom\u001b[0m \u001b[1;33m.\u001b[0m\u001b[0mmorestats\u001b[0m \u001b[1;32mimport\u001b[0m \u001b[1;33m*\u001b[0m\u001b[1;33m\u001b[0m\u001b[0m\n",
      "\u001b[0;32mC:\\Users\\hp-pc\\Anaconda3\\lib\\site-packages\\scipy\\stats\\stats.py\u001b[0m in \u001b[0;36m<module>\u001b[0;34m()\u001b[0m\n\u001b[1;32m    174\u001b[0m \u001b[1;32mimport\u001b[0m \u001b[0mscipy\u001b[0m\u001b[1;33m.\u001b[0m\u001b[0mlinalg\u001b[0m \u001b[1;32mas\u001b[0m \u001b[0mlinalg\u001b[0m\u001b[1;33m\u001b[0m\u001b[0m\n\u001b[1;32m    175\u001b[0m \u001b[1;32mimport\u001b[0m \u001b[0mnumpy\u001b[0m \u001b[1;32mas\u001b[0m \u001b[0mnp\u001b[0m\u001b[1;33m\u001b[0m\u001b[0m\n\u001b[0;32m--> 176\u001b[0;31m \u001b[1;32mfrom\u001b[0m \u001b[1;33m.\u001b[0m \u001b[1;32mimport\u001b[0m \u001b[0mdistributions\u001b[0m\u001b[1;33m\u001b[0m\u001b[0m\n\u001b[0m\u001b[1;32m    177\u001b[0m \u001b[1;32mfrom\u001b[0m \u001b[1;33m.\u001b[0m \u001b[1;32mimport\u001b[0m \u001b[0mmstats_basic\u001b[0m\u001b[1;33m\u001b[0m\u001b[0m\n\u001b[1;32m    178\u001b[0m \u001b[1;32mfrom\u001b[0m \u001b[1;33m.\u001b[0m\u001b[0m_distn_infrastructure\u001b[0m \u001b[1;32mimport\u001b[0m \u001b[0m_lazywhere\u001b[0m\u001b[1;33m\u001b[0m\u001b[0m\n",
      "\u001b[0;32mC:\\Users\\hp-pc\\Anaconda3\\lib\\site-packages\\scipy\\stats\\distributions.py\u001b[0m in \u001b[0;36m<module>\u001b[0;34m()\u001b[0m\n\u001b[1;32m     11\u001b[0m                                     rv_frozen)\n\u001b[1;32m     12\u001b[0m \u001b[1;33m\u001b[0m\u001b[0m\n\u001b[0;32m---> 13\u001b[0;31m \u001b[1;32mfrom\u001b[0m \u001b[1;33m.\u001b[0m \u001b[1;32mimport\u001b[0m \u001b[0m_continuous_distns\u001b[0m\u001b[1;33m\u001b[0m\u001b[0m\n\u001b[0m\u001b[1;32m     14\u001b[0m \u001b[1;32mfrom\u001b[0m \u001b[1;33m.\u001b[0m \u001b[1;32mimport\u001b[0m \u001b[0m_discrete_distns\u001b[0m\u001b[1;33m\u001b[0m\u001b[0m\n\u001b[1;32m     15\u001b[0m \u001b[1;33m\u001b[0m\u001b[0m\n",
      "\u001b[0;32mC:\\Users\\hp-pc\\Anaconda3\\lib\\site-packages\\scipy\\stats\\_continuous_distns.py\u001b[0m in \u001b[0;36m<module>\u001b[0;34m()\u001b[0m\n\u001b[1;32m     15\u001b[0m                            \u001b[0minv_boxcox\u001b[0m\u001b[1;33m,\u001b[0m \u001b[0minv_boxcox1p\u001b[0m\u001b[1;33m,\u001b[0m \u001b[0merfc\u001b[0m\u001b[1;33m,\u001b[0m \u001b[0mchndtr\u001b[0m\u001b[1;33m,\u001b[0m \u001b[0mchndtrix\u001b[0m\u001b[1;33m,\u001b[0m\u001b[1;33m\u001b[0m\u001b[0m\n\u001b[1;32m     16\u001b[0m                            i0, i1, ndtr as _norm_cdf, log_ndtr as _norm_logcdf)\n\u001b[0;32m---> 17\u001b[0;31m \u001b[1;32mfrom\u001b[0m \u001b[0mscipy\u001b[0m\u001b[1;33m.\u001b[0m\u001b[0m_lib\u001b[0m\u001b[1;33m.\u001b[0m\u001b[0m_numpy_compat\u001b[0m \u001b[1;32mimport\u001b[0m \u001b[0mbroadcast_to\u001b[0m\u001b[1;33m\u001b[0m\u001b[0m\n\u001b[0m\u001b[1;32m     18\u001b[0m \u001b[1;33m\u001b[0m\u001b[0m\n\u001b[1;32m     19\u001b[0m from numpy import (where, arange, putmask, ravel, shape,\n",
      "\u001b[0;32mC:\\Users\\hp-pc\\Anaconda3\\lib\\site-packages\\scipy\\_lib\\_numpy_compat.py\u001b[0m in \u001b[0;36m<module>\u001b[0;34m()\u001b[0m\n\u001b[1;32m      8\u001b[0m \u001b[1;33m\u001b[0m\u001b[0m\n\u001b[1;32m      9\u001b[0m \u001b[1;32mimport\u001b[0m \u001b[0mnumpy\u001b[0m \u001b[1;32mas\u001b[0m \u001b[0mnp\u001b[0m\u001b[1;33m\u001b[0m\u001b[0m\n\u001b[0;32m---> 10\u001b[0;31m \u001b[1;32mfrom\u001b[0m \u001b[0mnumpy\u001b[0m\u001b[1;33m.\u001b[0m\u001b[0mtesting\u001b[0m\u001b[1;33m.\u001b[0m\u001b[0mnosetester\u001b[0m \u001b[1;32mimport\u001b[0m \u001b[0mimport_nose\u001b[0m\u001b[1;33m\u001b[0m\u001b[0m\n\u001b[0m\u001b[1;32m     11\u001b[0m \u001b[1;33m\u001b[0m\u001b[0m\n\u001b[1;32m     12\u001b[0m \u001b[1;32mfrom\u001b[0m \u001b[0mscipy\u001b[0m\u001b[1;33m.\u001b[0m\u001b[0m_lib\u001b[0m\u001b[1;33m.\u001b[0m\u001b[0m_version\u001b[0m \u001b[1;32mimport\u001b[0m \u001b[0mNumpyVersion\u001b[0m\u001b[1;33m\u001b[0m\u001b[0m\n",
      "\u001b[0;31mImportError\u001b[0m: No module named 'numpy.testing.nosetester'"
     ]
    }
   ],
   "source": [
    "import seaborn as sns"
   ]
  },
  {
   "cell_type": "code",
   "execution_count": 12,
   "metadata": {
    "colab": {
     "base_uri": "https://localhost:8080/",
     "height": 296
    },
    "collapsed": false,
    "id": "v3SLYnFc0We_",
    "outputId": "573c55e5-3bd1-4be7-ad84-d8190a413b30"
   },
   "outputs": [
    {
     "ename": "ImportError",
     "evalue": "No module named 'seaborn'",
     "output_type": "error",
     "traceback": [
      "\u001b[0;31m---------------------------------------------------------------------------\u001b[0m",
      "\u001b[0;31mImportError\u001b[0m                               Traceback (most recent call last)",
      "\u001b[0;32m<ipython-input-12-3e6e58f63753>\u001b[0m in \u001b[0;36m<module>\u001b[0;34m()\u001b[0m\n\u001b[0;32m----> 1\u001b[0;31m \u001b[1;32mimport\u001b[0m \u001b[0mseaborn\u001b[0m \u001b[1;32mas\u001b[0m \u001b[0msns\u001b[0m\u001b[1;33m\u001b[0m\u001b[0m\n\u001b[0m\u001b[1;32m      2\u001b[0m \u001b[0msns\u001b[0m\u001b[1;33m.\u001b[0m\u001b[0mcountplot\u001b[0m\u001b[1;33m(\u001b[0m\u001b[0mx\u001b[0m \u001b[1;33m=\u001b[0m \u001b[1;34m'Education'\u001b[0m\u001b[1;33m,\u001b[0m \u001b[0mdata\u001b[0m \u001b[1;33m=\u001b[0m \u001b[0mdf\u001b[0m\u001b[1;33m)\u001b[0m\u001b[1;33m\u001b[0m\u001b[0m\n",
      "\u001b[0;31mImportError\u001b[0m: No module named 'seaborn'"
     ]
    }
   ],
   "source": [
    "\n",
    "sns.countplot(x = 'Education', data = df)"
   ]
  },
  {
   "cell_type": "markdown",
   "metadata": {
    "id": "NwOqJ0Ii00wj"
   },
   "source": [
    "So from this we observed that there are 42% of the people lie under Under-graduate category."
   ]
  },
  {
   "cell_type": "code",
   "execution_count": null,
   "metadata": {
    "colab": {
     "base_uri": "https://localhost:8080/",
     "height": 68
    },
    "collapsed": false,
    "id": "I1e5_5mz6Hih",
    "outputId": "3c23f400-9bb2-4d65-fea6-7ca5e5317d0d"
   },
   "outputs": [],
   "source": [
    "df['Personal_loan'].value_counts()"
   ]
  },
  {
   "cell_type": "markdown",
   "metadata": {
    "id": "e_FBXtEq6QUG"
   },
   "source": [
    "From this we can say that out of 5000 people, only 480 people taken the personal loan at the last marketing campaign, so Approximately 10% people have already taken the personal loan."
   ]
  },
  {
   "cell_type": "code",
   "execution_count": null,
   "metadata": {
    "colab": {
     "base_uri": "https://localhost:8080/",
     "height": 297
    },
    "collapsed": false,
    "id": "9jAkJjSSzW22",
    "outputId": "a405a1f0-dc01-47f1-94fa-9b88b04ccc78"
   },
   "outputs": [],
   "source": [
    "sns.countplot(x='Personal_loan', data = df) # by visual representation we can see the difference"
   ]
  },
  {
   "cell_type": "code",
   "execution_count": null,
   "metadata": {
    "colab": {
     "base_uri": "https://localhost:8080/",
     "height": 68
    },
    "collapsed": false,
    "id": "n9V9gMXVd9qh",
    "outputId": "4c491fe3-2c2d-49cd-ee47-6caed5b0ca72"
   },
   "outputs": [],
   "source": [
    "df['CreditCard'].value_counts()"
   ]
  },
  {
   "cell_type": "markdown",
   "metadata": {
    "id": "Nge_nX_SeWKo"
   },
   "source": [
    "So here we can say that, out of 5000 people 1470 people are having credit card which will be benificial for us for some points like :  \n",
    "*   To offer a personal loan or not to him depending upon the credit limit that he is having, because if he is having a pretty good credit limit why would he will go for loan.\n",
    "*   Depending upon the credit history of repayment of the person we can decide that whether he will be able repay the loan or not, like good credit score or bad credit score.\n",
    "*   we can target the remaining count who were not having credit cards, and can offer them a loan.\n",
    "\n",
    "\n",
    "\n"
   ]
  },
  {
   "cell_type": "code",
   "execution_count": null,
   "metadata": {
    "colab": {
     "base_uri": "https://localhost:8080/",
     "height": 296
    },
    "collapsed": false,
    "id": "7BRyBT7ifgdS",
    "outputId": "df07dfbd-80ac-4544-9cae-125f1617e329"
   },
   "outputs": [],
   "source": [
    "sns.countplot(x = 'CreditCard', data = df) #for better understanding visualising the same"
   ]
  },
  {
   "cell_type": "markdown",
   "metadata": {
    "id": "N4jzhWbEIpnq"
   },
   "source": [
    "#**Taking out the Data who have already sactioned the personal loan in last campaign**"
   ]
  },
  {
   "cell_type": "code",
   "execution_count": null,
   "metadata": {
    "collapsed": true,
    "id": "zFV4SAEmiz6o"
   },
   "outputs": [],
   "source": [
    "loan_taken = df.loc[df['Personal_loan'].isin([1])]"
   ]
  },
  {
   "cell_type": "code",
   "execution_count": null,
   "metadata": {
    "colab": {
     "base_uri": "https://localhost:8080/",
     "height": 419
    },
    "collapsed": false,
    "id": "1WIz_SJV2Tdc",
    "outputId": "53110900-ab69-470f-de54-ed9ec9354f4f"
   },
   "outputs": [],
   "source": [
    "loan_taken"
   ]
  },
  {
   "cell_type": "markdown",
   "metadata": {
    "id": "BwM6Qnlq3pce"
   },
   "source": [
    "In this data all the people that have taken loan already is there."
   ]
  },
  {
   "cell_type": "code",
   "execution_count": null,
   "metadata": {
    "colab": {
     "base_uri": "https://localhost:8080/",
     "height": 483
    },
    "collapsed": false,
    "id": "lv4G4R1I3kQ-",
    "outputId": "1f2e0046-dade-4a2d-feae-26b5cf17f979"
   },
   "outputs": [],
   "source": [
    "loan_taken.describe().T"
   ]
  },
  {
   "cell_type": "markdown",
   "metadata": {
    "id": "ibzhv_6m4ar3"
   },
   "source": [
    "In this :\n",
    "*   Income is normally distributed.\n",
    "*   Most of the personal Loan is given to family size of 2 or more.\n",
    "*   The person with bigger mortgage is also been eligible for Personal Loan\n",
    "*   The maximum people with Credit card spending of 2600 have got Personal loan this is an important inference as compared to the original data the maximum credit card spending  was upto 2500.\n",
    "\n",
    "\n"
   ]
  },
  {
   "cell_type": "code",
   "execution_count": null,
   "metadata": {
    "colab": {
     "base_uri": "https://localhost:8080/",
     "height": 68
    },
    "collapsed": false,
    "id": "BQ07LfEO3_39",
    "outputId": "74ed8cf9-30a1-4a19-b7a2-4f8ec2621572"
   },
   "outputs": [],
   "source": [
    "loan_taken['Securities Account'].value_counts()"
   ]
  },
  {
   "cell_type": "markdown",
   "metadata": {
    "id": "1FNYN2YJ6eyW"
   },
   "source": [
    "So from this we conclued that, people not having security account are around 87% and still they have been sactioned personal loan which means security account Should not be the affecting factor in case of personal loan "
   ]
  },
  {
   "cell_type": "code",
   "execution_count": null,
   "metadata": {
    "colab": {
     "base_uri": "https://localhost:8080/",
     "height": 68
    },
    "collapsed": false,
    "id": "Ll2G7HPq6Z4V",
    "outputId": "acc2cb7f-bb61-4cb8-aff7-8d3f492c0350"
   },
   "outputs": [],
   "source": [
    "loan_taken['CD_Account'].value_counts()"
   ]
  },
  {
   "cell_type": "markdown",
   "metadata": {
    "id": "MxrWttpx7VeT"
   },
   "source": [
    "So from this we conclued that, people not having CD account are around 70% and still they have been sactioned personal loan which means CD account Should not be the affecting factor in case of personal loan."
   ]
  },
  {
   "cell_type": "code",
   "execution_count": null,
   "metadata": {
    "colab": {
     "base_uri": "https://localhost:8080/",
     "height": 68
    },
    "collapsed": false,
    "id": "gdQAMDO17Mzm",
    "outputId": "25ffd0cb-b743-487f-a691-cf1c9384bcba"
   },
   "outputs": [],
   "source": [
    "loan_taken['Online'].value_counts()"
   ]
  },
  {
   "cell_type": "markdown",
   "metadata": {
    "id": "IXVmd9LX8AV6"
   },
   "source": [
    "There are 60% people using online banking who have been sactioned personal loan, this Variable might me considered for future refrence "
   ]
  },
  {
   "cell_type": "code",
   "execution_count": null,
   "metadata": {
    "colab": {
     "base_uri": "https://localhost:8080/",
     "height": 68
    },
    "collapsed": false,
    "id": "CJb-391_72XB",
    "outputId": "1b3ae04e-aadf-4c34-a74d-920aa35c0080"
   },
   "outputs": [],
   "source": [
    "loan_taken['CreditCard'].value_counts()"
   ]
  },
  {
   "cell_type": "markdown",
   "metadata": {
    "id": "x7FJhNPi8w78"
   },
   "source": [
    "So in this, 337 people are not having Credit card of **Universal Bank**, might be having Credit card of other banks. Still credit card variable can be avoided for considering the Personal loan."
   ]
  },
  {
   "cell_type": "code",
   "execution_count": null,
   "metadata": {
    "colab": {
     "base_uri": "https://localhost:8080/",
     "height": 34
    },
    "collapsed": false,
    "id": "k_2cC0kdaCPI",
    "outputId": "fdd8a52b-372d-42ca-9d23-42e7e6e3dfa3"
   },
   "outputs": [],
   "source": [
    "len(loan_taken[(loan_taken['CCAvg'] == 0)])"
   ]
  },
  {
   "cell_type": "markdown",
   "metadata": {
    "id": "ve7ofVjXa7Ak"
   },
   "source": [
    "There is only 1 value whose credit card spend is 0 and still have got personal loan. This tells that all other people have credit card, not necessary from the Universal Bank."
   ]
  },
  {
   "cell_type": "code",
   "execution_count": null,
   "metadata": {
    "colab": {
     "base_uri": "https://localhost:8080/",
     "height": 34
    },
    "collapsed": false,
    "id": "EB7evjSM8iT6",
    "outputId": "6bd0d743-29a4-4376-9782-52e513d11265"
   },
   "outputs": [],
   "source": [
    "mortgage = [value for value in loan_taken['Mortgage'] if value > 0]\n",
    "print(len(mortgage))"
   ]
  },
  {
   "cell_type": "code",
   "execution_count": null,
   "metadata": {
    "colab": {
     "base_uri": "https://localhost:8080/",
     "height": 34
    },
    "collapsed": false,
    "id": "2Qz5g9tS9a-F",
    "outputId": "69e11af5-6c9f-42ac-d0d4-93428ec3dd63"
   },
   "outputs": [],
   "source": [
    "dfmortgage = [value for value in df['Mortgage'] if value > 0]\n",
    "print(len(dfmortgage))"
   ]
  },
  {
   "cell_type": "markdown",
   "metadata": {
    "id": "AOWyUSxt-cTX"
   },
   "source": [
    "the proportion of Mortgage and personal loan in loan_taken and Main Data set is almost similar. which is around 30 to 35%."
   ]
  },
  {
   "cell_type": "code",
   "execution_count": null,
   "metadata": {
    "colab": {
     "base_uri": "https://localhost:8080/",
     "height": 34
    },
    "collapsed": false,
    "id": "NYQLLdn69dm0",
    "outputId": "0f034d79-47d6-4700-94d4-e3d961caaba5"
   },
   "outputs": [],
   "source": [
    "mortgage = [value for value in loan_taken['Mortgage'] if value > 600]\n",
    "print(len(mortgage))"
   ]
  },
  {
   "cell_type": "code",
   "execution_count": null,
   "metadata": {
    "colab": {
     "base_uri": "https://localhost:8080/",
     "height": 34
    },
    "collapsed": false,
    "id": "GA4f_05FAVrU",
    "outputId": "e3474a93-1505-4487-8ad1-281bb8d79c1d"
   },
   "outputs": [],
   "source": [
    "dfmortgage = [value for value in df['Mortgage'] if value > 600]\n",
    "print(len(dfmortgage))"
   ]
  },
  {
   "cell_type": "markdown",
   "metadata": {
    "id": "DzaE8heIA6jW"
   },
   "source": [
    "people having mortgage greater than 600 are 4 in count in Main Data set out off which 2 people means 50% people are been eligibiled for the Personal loan, hence Mortgage cannot be affecting factor in case of personal loan."
   ]
  },
  {
   "cell_type": "code",
   "execution_count": null,
   "metadata": {
    "colab": {
     "base_uri": "https://localhost:8080/",
     "height": 284
    },
    "collapsed": false,
    "id": "SqdpOPqfCdnN",
    "outputId": "331d3981-466f-4748-d98c-a7f55b838a02"
   },
   "outputs": [],
   "source": [
    "df['Income'].hist()"
   ]
  },
  {
   "cell_type": "code",
   "execution_count": null,
   "metadata": {
    "colab": {
     "base_uri": "https://localhost:8080/",
     "height": 284
    },
    "collapsed": false,
    "id": "Tqd4XzNDEt1Y",
    "outputId": "5113e1ac-5f16-4f8d-baa5-870601ea1942"
   },
   "outputs": [],
   "source": [
    "loan_taken['Income'].hist()"
   ]
  },
  {
   "cell_type": "markdown",
   "metadata": {
    "id": "Iou4iLKvFe7F"
   },
   "source": [
    "People having annual income more than 100,000 dollars are having higher chances of getting personal loan."
   ]
  },
  {
   "cell_type": "code",
   "execution_count": null,
   "metadata": {
    "colab": {
     "base_uri": "https://localhost:8080/",
     "height": 282
    },
    "collapsed": false,
    "id": "36wiuoAaE3SO",
    "outputId": "97196420-28db-4c1a-ee0d-df438dc318db"
   },
   "outputs": [],
   "source": [
    "loan_taken['Experience'].hist()"
   ]
  },
  {
   "cell_type": "code",
   "execution_count": null,
   "metadata": {
    "colab": {
     "base_uri": "https://localhost:8080/",
     "height": 419
    },
    "collapsed": false,
    "id": "k7-YqwH9OkoQ",
    "outputId": "46e79ca8-07db-4e6c-ee4a-17bbc1d59697"
   },
   "outputs": [],
   "source": [
    "loan_taken[(loan_taken['Income'] > 100)]"
   ]
  },
  {
   "cell_type": "code",
   "execution_count": null,
   "metadata": {
    "colab": {
     "base_uri": "https://localhost:8080/",
     "height": 34
    },
    "collapsed": false,
    "id": "f7gbtkTIF8eH",
    "outputId": "23be72d1-db8b-4c97-a157-d210e96f6b71"
   },
   "outputs": [],
   "source": [
    "EXP = [value for value in loan_taken['Experience'] if value < 9]\n",
    "print(len(EXP))"
   ]
  },
  {
   "cell_type": "code",
   "execution_count": null,
   "metadata": {
    "colab": {
     "base_uri": "https://localhost:8080/",
     "height": 34
    },
    "collapsed": false,
    "id": "XGtTTNfRIf8e",
    "outputId": "ceb7ce7c-2873-4a63-b905-abdf94ab775f"
   },
   "outputs": [],
   "source": [
    "EXP = [value for value in loan_taken['Experience'] if value > 30]\n",
    "print(len(EXP))"
   ]
  },
  {
   "cell_type": "markdown",
   "metadata": {
    "id": "qgcSzQB_JOi4"
   },
   "source": [
    "People with Experience less than 9 and greater than 30 are around 45% in the loan_taken Data set and hence we can infer personal loan eligibility criteria not much rlatable to experience."
   ]
  },
  {
   "cell_type": "code",
   "execution_count": null,
   "metadata": {
    "colab": {
     "base_uri": "https://localhost:8080/",
     "height": 283
    },
    "collapsed": false,
    "id": "6WGTjDV-Klu9",
    "outputId": "7ad7d3ed-034b-41bc-8b60-074e81f5fcfb"
   },
   "outputs": [],
   "source": [
    "loan_taken['Age'].hist()"
   ]
  },
  {
   "cell_type": "code",
   "execution_count": null,
   "metadata": {
    "colab": {
     "base_uri": "https://localhost:8080/",
     "height": 282
    },
    "collapsed": false,
    "id": "neiNCRKP3o11",
    "outputId": "206fc80e-3fcd-4c27-dc7c-6e5c0d6c388f"
   },
   "outputs": [],
   "source": [
    "df['Age'].hist(bins = 50)"
   ]
  },
  {
   "cell_type": "code",
   "execution_count": null,
   "metadata": {
    "colab": {
     "base_uri": "https://localhost:8080/",
     "height": 296
    },
    "collapsed": false,
    "id": "oqopr0ce5msm",
    "outputId": "53cea6b8-447d-4951-e589-e60563aef8db"
   },
   "outputs": [],
   "source": [
    "sns.histplot(x = loan_taken['CCAvg'], data = loan_taken, bins = range(1,11, 1))"
   ]
  },
  {
   "cell_type": "code",
   "execution_count": null,
   "metadata": {
    "collapsed": true,
    "id": "hMWpGTyC5309"
   },
   "outputs": [],
   "source": [
    "CC = [value for value in loan_taken['CCAvg'] if value > 2.6]"
   ]
  },
  {
   "cell_type": "code",
   "execution_count": null,
   "metadata": {
    "colab": {
     "base_uri": "https://localhost:8080/",
     "height": 34
    },
    "collapsed": false,
    "id": "MHJvv7Me8p9b",
    "outputId": "9b176d35-9ba4-4dfb-c54d-e8116cfd369c"
   },
   "outputs": [],
   "source": [
    "len(CC)"
   ]
  },
  {
   "cell_type": "markdown",
   "metadata": {
    "id": "56YB58YX87kX"
   },
   "source": [
    "74% of people in loan_taken data have their Credit card monthly spending is greater than 2600 dollars"
   ]
  },
  {
   "cell_type": "code",
   "execution_count": null,
   "metadata": {
    "colab": {
     "base_uri": "https://localhost:8080/",
     "height": 102
    },
    "collapsed": false,
    "id": "h01KSXhc-4sx",
    "outputId": "7a8663be-ef15-4b22-ddf8-2be2c0071f50"
   },
   "outputs": [],
   "source": [
    "loan_taken['Family'].value_counts()"
   ]
  },
  {
   "cell_type": "code",
   "execution_count": null,
   "metadata": {
    "colab": {
     "base_uri": "https://localhost:8080/",
     "height": 299
    },
    "collapsed": false,
    "id": "DKLfYdlS_Ngh",
    "outputId": "539cd103-1731-4590-d108-8b7394c9b85c"
   },
   "outputs": [],
   "source": [
    "sns.countplot(x = loan_taken['Family'], data = loan_taken)"
   ]
  },
  {
   "cell_type": "markdown",
   "metadata": {
    "id": "TEDqrbIS_PL2"
   },
   "source": [
    "As values in Family are almost equally distributed, hence it cannot be an affecting factor in case of Personal loan."
   ]
  },
  {
   "cell_type": "code",
   "execution_count": null,
   "metadata": {
    "colab": {
     "base_uri": "https://localhost:8080/",
     "height": 34
    },
    "collapsed": false,
    "id": "fgymdE88_waw",
    "outputId": "fe53e241-06b5-416a-8ed6-5ec05b020651"
   },
   "outputs": [],
   "source": [
    "len(loan_taken[loan_taken['ZIP_Code'] == 94720])"
   ]
  },
  {
   "cell_type": "code",
   "execution_count": null,
   "metadata": {
    "colab": {
     "base_uri": "https://localhost:8080/",
     "height": 221
    },
    "collapsed": false,
    "id": "_sJ58Y5HEJPn",
    "outputId": "ed73e614-1054-4277-b71d-2f85ac9e0e23"
   },
   "outputs": [],
   "source": [
    "zip1 = loan_taken['ZIP_Code'].value_counts().sort_values(ascending = False)\n",
    "zip1"
   ]
  },
  {
   "cell_type": "code",
   "execution_count": null,
   "metadata": {
    "colab": {
     "base_uri": "https://localhost:8080/",
     "height": 34
    },
    "collapsed": false,
    "id": "SrN2fb2zGEwR",
    "outputId": "dc2bc9a6-5556-4db4-9663-fc72e6132e9c"
   },
   "outputs": [],
   "source": [
    "zip = [values for values in zip1 if values > 5]\n",
    "len(zip)"
   ]
  },
  {
   "cell_type": "code",
   "execution_count": null,
   "metadata": {
    "colab": {
     "base_uri": "https://localhost:8080/",
     "height": 204
    },
    "collapsed": false,
    "id": "HUfyN9R6H0to",
    "outputId": "b7dd8f3e-4bd7-48cc-c4e1-9a372edc4e84"
   },
   "outputs": [],
   "source": [
    "zip1.head(10)"
   ]
  },
  {
   "cell_type": "markdown",
   "metadata": {
    "id": "w_c-sRJIIaHV"
   },
   "source": [
    "from the given ZIP codes in loan taken data top 10 ZIP codes account for 19% data, hence we could focus on these ZIP codes for maximum coversion of personal loan."
   ]
  },
  {
   "cell_type": "markdown",
   "metadata": {
    "id": "2U-QVw3q9dRR"
   },
   "source": [
    "#**Final Inference of Loan taken Data**  \n",
    "*   people having income greater than 100,000 dollars have higher chances of getting personal loan.\n",
    "*   people having their credit card spent monthly greater than 2600 dollars, have higher chances pf getting personal loan.\n",
    "*   Online banking plays a good role in it, people having online banking also have higher chances of getting personal loan.\n",
    "\n",
    "\n",
    "\n"
   ]
  },
  {
   "cell_type": "code",
   "execution_count": null,
   "metadata": {
    "colab": {
     "base_uri": "https://localhost:8080/",
     "height": 34
    },
    "collapsed": false,
    "id": "iKBrXrTa8tS0",
    "outputId": "f01021e9-0067-4352-dfe2-ea06f9037168"
   },
   "outputs": [],
   "source": [
    "len(df[df['Income'] > 100])"
   ]
  },
  {
   "cell_type": "code",
   "execution_count": null,
   "metadata": {
    "colab": {
     "base_uri": "https://localhost:8080/",
     "height": 34
    },
    "collapsed": false,
    "id": "nZNNXEM9ivBQ",
    "outputId": "7c2cdcc1-f3cb-4d3a-a5b3-1d45daf7cea0"
   },
   "outputs": [],
   "source": [
    "len(loan_taken[loan_taken['Income']>100])"
   ]
  },
  {
   "cell_type": "markdown",
   "metadata": {
    "id": "fDW9OSMonIlt"
   },
   "source": [
    "If people whose income is greater than 100,000 dollars are targeted, then only 774 people fall in this category out of the 4520 remaining data."
   ]
  },
  {
   "cell_type": "code",
   "execution_count": null,
   "metadata": {
    "colab": {
     "base_uri": "https://localhost:8080/",
     "height": 34
    },
    "collapsed": false,
    "id": "E2J2y2P5jomI",
    "outputId": "b66254c0-0770-4dac-919d-87ba480d89ba"
   },
   "outputs": [],
   "source": [
    "len(df[df['CCAvg'] > 2.60])"
   ]
  },
  {
   "cell_type": "code",
   "execution_count": null,
   "metadata": {
    "colab": {
     "base_uri": "https://localhost:8080/",
     "height": 34
    },
    "collapsed": false,
    "id": "6Vmye9UskHZV",
    "outputId": "24e0ecac-2163-4b21-b0f0-6e767ff927e3"
   },
   "outputs": [],
   "source": [
    "len(loan_taken[loan_taken['CCAvg'] > 2.60])"
   ]
  },
  {
   "cell_type": "markdown",
   "metadata": {
    "id": "8IpsW4NZpA1v"
   },
   "source": [
    "If people whose CCavg is greater than 2600 dollars are targeted, then only 807 people fall in this category out of the 4520 remaining data."
   ]
  },
  {
   "cell_type": "code",
   "execution_count": null,
   "metadata": {
    "colab": {
     "base_uri": "https://localhost:8080/",
     "height": 419
    },
    "collapsed": false,
    "id": "Ef0CHg6CocBs",
    "outputId": "8af60357-6412-41a7-ec53-f5f79d893628"
   },
   "outputs": [],
   "source": [
    "a = df[(df['Income']>=100) | (df['CCAvg']>=2.60) & (df['Education']>1)]\n",
    "a"
   ]
  },
  {
   "cell_type": "code",
   "execution_count": null,
   "metadata": {
    "colab": {
     "base_uri": "https://localhost:8080/",
     "height": 49
    },
    "collapsed": false,
    "id": "j9a9qB03g8td",
    "outputId": "4fee6317-86f5-4610-92b2-8aa02f1c9ded"
   },
   "outputs": [],
   "source": [
    "l1 = loan_taken[(loan_taken['Income']<100) & (loan_taken['CCAvg']<2.60) & (loan_taken['Education'] > 1)]\n",
    "l1"
   ]
  },
  {
   "cell_type": "code",
   "execution_count": null,
   "metadata": {
    "colab": {
     "base_uri": "https://localhost:8080/",
     "height": 419
    },
    "collapsed": false,
    "id": "-g_KLHHWsZ03",
    "outputId": "78caf4b7-12e0-4420-d023-aeb7289e1a6b"
   },
   "outputs": [],
   "source": [
    "    l = loan_taken[(loan_taken['Income']>=100) | (loan_taken['CCAvg']>=2.60) | (loan_taken['Education'] > 1)]\n",
    "    l"
   ]
  },
  {
   "cell_type": "markdown",
   "metadata": {
    "id": "iAbGEQHqt2gC"
   },
   "source": [
    "there are 3883 entries which has either income greater than 100,000 dollars or CCavg monthly spent is greater than 2600 dollars or Education is Greater than 1 of 5000 data. "
   ]
  },
  {
   "cell_type": "code",
   "execution_count": null,
   "metadata": {
    "collapsed": true,
    "id": "McGn27Y08Hmp"
   },
   "outputs": [],
   "source": [
    "df_80_100 = df[(df['Income'] > 80) & (df['Income'] < 100)]"
   ]
  },
  {
   "cell_type": "code",
   "execution_count": null,
   "metadata": {
    "colab": {
     "base_uri": "https://localhost:8080/",
     "height": 359
    },
    "collapsed": false,
    "id": "Xj5JcMtb8TT7",
    "outputId": "58a673f2-e005-419b-d24b-c4cf28caed19"
   },
   "outputs": [],
   "source": [
    "df_80_100.head(10)"
   ]
  },
  {
   "cell_type": "code",
   "execution_count": null,
   "metadata": {
    "colab": {
     "base_uri": "https://localhost:8080/",
     "height": 359
    },
    "collapsed": false,
    "id": "jIttB4stH6qR",
    "outputId": "01ad0cce-bd9c-4268-91e5-881a97288530"
   },
   "outputs": [],
   "source": [
    "df_80_100.tail(10)"
   ]
  },
  {
   "cell_type": "code",
   "execution_count": null,
   "metadata": {
    "colab": {
     "base_uri": "https://localhost:8080/",
     "height": 34
    },
    "collapsed": false,
    "id": "WRxODatKID5i",
    "outputId": "805f8b1d-5ee7-467e-beb2-b3308cb3ff10"
   },
   "outputs": [],
   "source": [
    "df_80_100.shape"
   ]
  },
  {
   "cell_type": "code",
   "execution_count": null,
   "metadata": {
    "colab": {
     "base_uri": "https://localhost:8080/",
     "height": 34
    },
    "collapsed": false,
    "id": "8guleR6Py4os",
    "outputId": "ecf28693-9153-4208-d51a-0394e389ee0d"
   },
   "outputs": [],
   "source": [
    "len(loan_taken[(loan_taken['Income'] >= 80) & (loan_taken['Income'] < 100) | (loan_taken['CCAvg'] > 2.0) & (loan_taken['CCAvg'] < 2.60)])"
   ]
  },
  {
   "cell_type": "markdown",
   "metadata": {
    "id": "2BivZeVR8IDM"
   },
   "source": [
    "There are around 12% people whose Income is between 80000 and 100000 dollars or CC spending is between 2000 to 2600 dollars who have been sanctioned loan."
   ]
  },
  {
   "cell_type": "code",
   "execution_count": null,
   "metadata": {
    "colab": {
     "base_uri": "https://localhost:8080/",
     "height": 34
    },
    "collapsed": false,
    "id": "bNV_obN_6Abm",
    "outputId": "399a8537-b32b-4f6d-dad0-e58e1d5bc94e"
   },
   "outputs": [],
   "source": [
    "len(df[(df['Income'] >= 80) & (df['Income'] < 100) | (df['CCAvg'] > 2.0) & (df['CCAvg'] < 2.60)])"
   ]
  },
  {
   "cell_type": "markdown",
   "metadata": {
    "id": "ohxotNXM9AHo"
   },
   "source": [
    "total data = 5000 - loan_taken i.e 480  \n",
    "           = 4520  \n",
    "1157 main data - 56 loan_take data = 1101  \n",
    "targeted audience Satisfying condition is 1101.  \n",
    "There around 24.35% people having Income between 80000 to 100000 dollars or CC avg spending monthly is between 2000 to 2600 dollars."
   ]
  },
  {
   "cell_type": "code",
   "execution_count": null,
   "metadata": {
    "collapsed": false,
    "id": "TmjE3kSR7W40"
   },
   "outputs": [],
   "source": [
    "len(df[(df['Income'] >= 180) & (df['Personal Loan'] == 1)])"
   ]
  }
 ],
 "metadata": {
  "anaconda-cloud": {},
  "colab": {
   "collapsed_sections": [],
   "name": "Final_Bank_Personal_loan_Modeling.ipynb",
   "provenance": []
  },
  "kernelspec": {
   "display_name": "Python [default]",
   "language": "python",
   "name": "python3"
  },
  "language_info": {
   "codemirror_mode": {
    "name": "ipython",
    "version": 3
   },
   "file_extension": ".py",
   "mimetype": "text/x-python",
   "name": "python",
   "nbconvert_exporter": "python",
   "pygments_lexer": "ipython3",
   "version": "3.5.2"
  }
 },
 "nbformat": 4,
 "nbformat_minor": 0
}
